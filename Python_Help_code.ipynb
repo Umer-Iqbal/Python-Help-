{
 "cells": [
  {
   "cell_type": "code",
   "execution_count": 2,
   "metadata": {},
   "outputs": [
    {
     "name": "stdout",
     "output_type": "stream",
     "text": [
      "shape:  (5, 1)\n",
      "[[0.]\n",
      " [0.]\n",
      " [0.]\n",
      " [0.]\n",
      " [0.]]\n",
      "Enter a Number: 1\n",
      "Enter a Number: 2\n",
      "Enter a Number: 3\n",
      "Enter a Number: 4\n",
      "Enter a Number: 5\n",
      "shape:  (5, 1)\n"
     ]
    }
   ],
   "source": [
    "# How to create numpy or empty numpy\n",
    "import numpy as np\n",
    "arr1 = np.zeros([5,1])\n",
    "\n",
    "print(\"shape: \",arr1.shape)\n",
    "print(arr1)\n",
    "\n",
    "Lrows = 0\n",
    "Lcolumn = 0\n",
    "\n",
    "while Lrows <= 4:\n",
    "    arr1[Lrows,Lcolumn] = input(\"Enter a Number: \")\n",
    "    \n",
    "    Lrows = Lrows+1\n",
    "    \n",
    "print(\"shape: \", arr1.shape)\n"
   ]
  },
  {
   "cell_type": "code",
   "execution_count": 13,
   "metadata": {},
   "outputs": [
    {
     "name": "stdout",
     "output_type": "stream",
     "text": [
      "<class 'list'>\n",
      "<class 'list'>\n",
      "Enter a number: 1\n",
      "Enter a number: 2\n",
      "Enter a number: 3\n",
      "['1', '2', '3']\n"
     ]
    }
   ],
   "source": [
    "# https://www.programiz.com/python-programming/list\n",
    "# How to create empty List\n",
    "#Integers, floats, strings, and (as you'll learn later in this course) tuples are all immutable. \n",
    "#Once one of these objects is created, it can't be modified, unless you reassign the object to a new value.\n",
    "#The list is a data type that is mutable.\n",
    "\n",
    "a = []\n",
    "print(type(a))\n",
    "b= list()\n",
    "print(type(b))\n",
    "\n",
    "i = 0\n",
    "while i != 3:    \n",
    "    a.append(input(\"Enter a number: \")) \n",
    "    i += 1\n",
    "print(a)   "
   ]
  },
  {
   "cell_type": "code",
   "execution_count": null,
   "metadata": {},
   "outputs": [],
   "source": []
  },
  {
   "cell_type": "code",
   "execution_count": null,
   "metadata": {},
   "outputs": [],
   "source": []
  }
 ],
 "metadata": {
  "kernelspec": {
   "display_name": "Python 3",
   "language": "python",
   "name": "python3"
  },
  "language_info": {
   "codemirror_mode": {
    "name": "ipython",
    "version": 3
   },
   "file_extension": ".py",
   "mimetype": "text/x-python",
   "name": "python",
   "nbconvert_exporter": "python",
   "pygments_lexer": "ipython3",
   "version": "3.8.5"
  }
 },
 "nbformat": 4,
 "nbformat_minor": 4
}
