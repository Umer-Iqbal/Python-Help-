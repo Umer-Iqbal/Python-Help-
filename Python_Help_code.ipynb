{
 "cells": [
  {
   "cell_type": "markdown",
   "metadata": {},
   "source": [
    "# Numpy"
   ]
  },
  {
   "cell_type": "code",
   "execution_count": 2,
   "metadata": {},
   "outputs": [
    {
     "name": "stdout",
     "output_type": "stream",
     "text": [
      "shape:  (5, 1)\n",
      "[[0.]\n",
      " [0.]\n",
      " [0.]\n",
      " [0.]\n",
      " [0.]]\n",
      "Enter a Number: 1\n",
      "Enter a Number: 2\n",
      "Enter a Number: 3\n",
      "Enter a Number: 4\n",
      "Enter a Number: 5\n",
      "shape:  (5, 1)\n"
     ]
    }
   ],
   "source": [
    "# How to create numpy or empty numpy\n",
    "import numpy as np\n",
    "arr1 = np.zeros([5,1])\n",
    "\n",
    "print(\"shape: \",arr1.shape)\n",
    "print(arr1)\n",
    "\n",
    "Lrows = 0\n",
    "Lcolumn = 0\n",
    "\n",
    "while Lrows <= 4:\n",
    "    arr1[Lrows,Lcolumn] = input(\"Enter a Number: \")\n",
    "    \n",
    "    Lrows = Lrows+1\n",
    "    \n",
    "print(\"shape: \", arr1.shape)\n"
   ]
  },
  {
   "cell_type": "markdown",
   "metadata": {},
   "source": [
    "# List"
   ]
  },
  {
   "cell_type": "code",
   "execution_count": 8,
   "metadata": {},
   "outputs": [
    {
     "name": "stdout",
     "output_type": "stream",
     "text": [
      "<class 'list'>\n",
      "<class 'list'>\n",
      "Enter a number: 7\n",
      "Enter a number: 5\n",
      "Enter a number: 5\n",
      "['7', '5', '5']\n"
     ]
    },
    {
     "data": {
      "text/plain": [
       "'thislist = [\"apple\", \"banana\", \"cherry\"]\\nprint(range(4))\\nfor i in range(1,len(thislist)):\\n  print(thislist[i])'"
      ]
     },
     "execution_count": 8,
     "metadata": {},
     "output_type": "execute_result"
    }
   ],
   "source": [
    "# https://www.programiz.com/python-programming/list\n",
    "#https://developers.google.com/edu/python/lists#:~:text=insert(index%2C%20elem)%20%2D%2D,similar%20to%20using%20extend().\n",
    "\n",
    "# How to create empty List\n",
    "#Integers, floats, strings, and (as you'll learn later in this course) tuples are all immutable. \n",
    "#Once one of these objects is created, it can't be modified, unless you reassign the object to a new value.\n",
    "#The list is a data type that is mutable.\n",
    "\n",
    "a = []\n",
    "print(type(a))\n",
    "b= list()\n",
    "print(type(b))\n",
    "\n",
    "i = 0\n",
    "while i != 3:    \n",
    "    a.append(input(\"Enter a number: \")) \n",
    "    i += 1\n",
    "print(a)   \n",
    "\n",
    "\n",
    "\"\"\"thislist = [\"apple\", \"banana\", \"cherry\"]\n",
    "print(range(4))\n",
    "for i in range(1,len(thislist)):\n",
    "  print(thislist[i])\"\"\""
   ]
  },
  {
   "cell_type": "markdown",
   "metadata": {},
   "source": [
    "# Dictonary"
   ]
  },
  {
   "cell_type": "code",
   "execution_count": 19,
   "metadata": {},
   "outputs": [
    {
     "name": "stdout",
     "output_type": "stream",
     "text": [
      "{}\n",
      "<class 'dict'>\n",
      "{}\n",
      "<class 'dict'>\n",
      "value: 1\n",
      "value: 2\n",
      "value: 3\n",
      "value: 4\n",
      "value: 5\n",
      "{'key0': '1', 'key1': '2', 'key2': '3', 'key3': '4', 'key4': '5'}\n"
     ]
    }
   ],
   "source": [
    "#How to Create an Empty Dictionary in Python\n",
    "items= {}\n",
    "print(items)\n",
    "print(type(items))\n",
    "items= dict()\n",
    "print(items)\n",
    "print(type(items))\n",
    "\n",
    "i = 0\n",
    "while i<=4:\n",
    "    items[\"key\"+str(i)] = input(\"value: \")\n",
    "    i += 1\n",
    "    \n",
    "print(items)"
   ]
  },
  {
   "cell_type": "markdown",
   "metadata": {},
   "source": [
    "# Set"
   ]
  },
  {
   "cell_type": "code",
   "execution_count": 6,
   "metadata": {},
   "outputs": [
    {
     "name": "stdout",
     "output_type": "stream",
     "text": [
      "set()\n",
      "<class 'set'>\n",
      "set()\n",
      "<class 'set'>\n",
      "value: 1\n",
      "value: 2\n",
      "value: 3\n",
      "value: 4\n",
      "value: 4\n",
      "['1', '2', '3', '4']\n"
     ]
    }
   ],
   "source": [
    "items= set()\n",
    "print(items)\n",
    "print(type(items))\n",
    "\n",
    "print(items)\n",
    "print(type(items))\n",
    "\n",
    "i = 0\n",
    "while i<=4:\n",
    "    items.add(input(\"value: \")) \n",
    "    i += 1\n",
    "    \n",
    "print(sorted(items))          #sorting in set, set sort"
   ]
  },
  {
   "cell_type": "code",
   "execution_count": null,
   "metadata": {},
   "outputs": [],
   "source": []
  }
 ],
 "metadata": {
  "kernelspec": {
   "display_name": "Python 3",
   "language": "python",
   "name": "python3"
  },
  "language_info": {
   "codemirror_mode": {
    "name": "ipython",
    "version": 3
   },
   "file_extension": ".py",
   "mimetype": "text/x-python",
   "name": "python",
   "nbconvert_exporter": "python",
   "pygments_lexer": "ipython3",
   "version": "3.8.5"
  }
 },
 "nbformat": 4,
 "nbformat_minor": 4
}
